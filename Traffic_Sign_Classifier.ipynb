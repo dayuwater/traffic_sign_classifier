{
 "cells": [
  {
   "cell_type": "markdown",
   "metadata": {},
   "source": [
    "# Self-Driving Car Engineer Nanodegree\n",
    "\n",
    "## Deep Learning\n",
    "\n",
    "## Project: Build a Traffic Sign Recognition Classifier\n",
    "\n",
    "In this notebook, a template is provided for you to implement your functionality in stages, which is required to successfully complete this project. If additional code is required that cannot be included in the notebook, be sure that the Python code is successfully imported and included in your submission if necessary. \n",
    "\n",
    "> **Note**: Once you have completed all of the code implementations, you need to finalize your work by exporting the iPython Notebook as an HTML document. Before exporting the notebook to html, all of the code cells need to have been run so that reviewers can see the final implementation and output. You can then export the notebook by using the menu above and navigating to  \\n\",\n",
    "    \"**File -> Download as -> HTML (.html)**. Include the finished document along with this notebook as your submission. \n",
    "\n",
    "In addition to implementing code, there is a writeup to complete. The writeup should be completed in a separate file, which can be either a markdown file or a pdf document. There is a [write up template](https://github.com/udacity/CarND-Traffic-Sign-Classifier-Project/blob/master/writeup_template.md) that can be used to guide the writing process. Completing the code template and writeup template will cover all of the [rubric points](https://review.udacity.com/#!/rubrics/481/view) for this project.\n",
    "\n",
    "The [rubric](https://review.udacity.com/#!/rubrics/481/view) contains \"Stand Out Suggestions\" for enhancing the project beyond the minimum requirements. The stand out suggestions are optional. If you decide to pursue the \"stand out suggestions\", you can include the code in this Ipython notebook and also discuss the results in the writeup file.\n",
    "\n",
    "\n",
    ">**Note:** Code and Markdown cells can be executed using the **Shift + Enter** keyboard shortcut. In addition, Markdown cells can be edited by typically double-clicking the cell to enter edit mode."
   ]
  },
  {
   "cell_type": "markdown",
   "metadata": {},
   "source": [
    "---\n",
    "## Step 0: Load The Data"
   ]
  },
  {
   "cell_type": "code",
   "execution_count": 1,
   "metadata": {
    "collapsed": true
   },
   "outputs": [],
   "source": [
    "# Load pickled data\n",
    "import pickle\n",
    "\n",
    "# TODO: Fill this in based on where you saved the training and testing data\n",
    "\n",
    "training_file = 'dataset/train.p'\n",
    "validation_file= 'dataset/valid.p'\n",
    "testing_file = 'dataset/test.p'\n",
    "\n",
    "with open(training_file, mode='rb') as f:\n",
    "    train = pickle.load(f)\n",
    "with open(validation_file, mode='rb') as f:\n",
    "    valid = pickle.load(f)\n",
    "with open(testing_file, mode='rb') as f:\n",
    "    test = pickle.load(f)\n",
    "    \n",
    "X_train, y_train = train['features'], train['labels']\n",
    "X_valid, y_valid = valid['features'], valid['labels']\n",
    "X_test, y_test = test['features'], test['labels']"
   ]
  },
  {
   "cell_type": "markdown",
   "metadata": {},
   "source": [
    "---\n",
    "\n",
    "## Step 1: Dataset Summary & Exploration\n",
    "\n",
    "The pickled data is a dictionary with 4 key/value pairs:\n",
    "\n",
    "- `'features'` is a 4D array containing raw pixel data of the traffic sign images, (num examples, width, height, channels).\n",
    "- `'labels'` is a 1D array containing the label/class id of the traffic sign. The file `signnames.csv` contains id -> name mappings for each id.\n",
    "- `'sizes'` is a list containing tuples, (width, height) representing the original width and height the image.\n",
    "- `'coords'` is a list containing tuples, (x1, y1, x2, y2) representing coordinates of a bounding box around the sign in the image. **THESE COORDINATES ASSUME THE ORIGINAL IMAGE. THE PICKLED DATA CONTAINS RESIZED VERSIONS (32 by 32) OF THESE IMAGES**\n",
    "\n",
    "Complete the basic data summary below. Use python, numpy and/or pandas methods to calculate the data summary rather than hard coding the results. For example, the [pandas shape method](http://pandas.pydata.org/pandas-docs/stable/generated/pandas.DataFrame.shape.html) might be useful for calculating some of the summary results. "
   ]
  },
  {
   "cell_type": "markdown",
   "metadata": {},
   "source": [
    "### Provide a Basic Summary of the Data Set Using Python, Numpy and/or Pandas"
   ]
  },
  {
   "cell_type": "code",
   "execution_count": 2,
   "metadata": {
    "collapsed": false
   },
   "outputs": [
    {
     "name": "stdout",
     "output_type": "stream",
     "text": [
      "Counter({2: 2010, 1: 1980, 13: 1920, 12: 1890, 38: 1860, 10: 1800, 4: 1770, 5: 1650, 25: 1350, 9: 1320, 7: 1290, 3: 1260, 8: 1260, 11: 1170, 18: 1080, 35: 1080, 17: 990, 14: 690, 31: 690, 33: 599, 15: 540, 26: 540, 28: 480, 23: 450, 30: 390, 6: 360, 16: 360, 34: 360, 22: 330, 36: 330, 20: 300, 40: 300, 21: 270, 39: 270, 24: 240, 29: 240, 27: 210, 32: 210, 41: 210, 42: 210, 0: 180, 19: 180, 37: 180})\n",
      "Counter({1: 240, 2: 240, 13: 240, 4: 210, 5: 210, 10: 210, 12: 210, 38: 210, 3: 150, 7: 150, 8: 150, 9: 150, 11: 150, 25: 150, 17: 120, 18: 120, 35: 120, 14: 90, 15: 90, 31: 90, 33: 90, 6: 60, 16: 60, 20: 60, 21: 60, 22: 60, 23: 60, 26: 60, 28: 60, 30: 60, 34: 60, 36: 60, 40: 60, 0: 30, 19: 30, 24: 30, 27: 30, 29: 30, 32: 30, 37: 30, 39: 30, 41: 30, 42: 30})\n",
      "Counter({2: 750, 1: 720, 13: 720, 12: 690, 38: 690, 4: 660, 10: 660, 5: 630, 9: 480, 25: 480, 3: 450, 7: 450, 8: 450, 11: 420, 18: 390, 35: 390, 17: 360, 14: 270, 31: 270, 15: 210, 33: 210, 26: 180, 6: 150, 16: 150, 23: 150, 28: 150, 30: 150, 22: 120, 34: 120, 36: 120, 20: 90, 21: 90, 24: 90, 29: 90, 39: 90, 40: 90, 42: 90, 0: 60, 19: 60, 27: 60, 32: 60, 37: 60, 41: 60})\n",
      "34799\n",
      "Number of training examples = 34799\n",
      "Number of validation examples = 4410\n",
      "Number of testing examples = 12630\n",
      "Image data shape = (32, 32, 3)\n",
      "Number of classes = 43\n"
     ]
    }
   ],
   "source": [
    "### Replace each question mark with the appropriate value. \n",
    "### Use python, pandas or numpy methods rather than hard coding the results\n",
    "\n",
    "# TODO: Number of training examples\n",
    "n_train = len(y_train)\n",
    "\n",
    "# TODO: Number of validation examples\n",
    "n_validation = len(y_valid)\n",
    "\n",
    "# TODO: Number of testing examples.\n",
    "n_test = len(y_test)\n",
    "\n",
    "# TODO: What's the shape of an traffic sign image?\n",
    "image_shape = X_train[0].shape\n",
    "\n",
    "# TODO: How many unique classes/labels there are in the dataset. (Should return 43)\n",
    "\n",
    "from collections import Counter\n",
    "counter_train = Counter()\n",
    "counter_valid = Counter()\n",
    "counter_test = Counter()\n",
    "for item in y_train:\n",
    "    counter_train[item] += 1\n",
    "\n",
    "for item in y_valid:\n",
    "    counter_valid[item] += 1\n",
    "\n",
    "for item in y_test:\n",
    "    counter_test[item] += 1\n",
    "print(counter_train) \n",
    "print(counter_valid) \n",
    "print(counter_test) \n",
    "print(len(y_train))\n",
    "\n",
    "    \n",
    "    \n",
    "\n",
    "\n",
    "n_classes = len(counter_train)\n",
    "\n",
    "print(\"Number of training examples =\", n_train)\n",
    "print(\"Number of validation examples =\", n_validation)\n",
    "print(\"Number of testing examples =\", n_test)\n",
    "print(\"Image data shape =\", image_shape)\n",
    "print(\"Number of classes =\", n_classes)"
   ]
  },
  {
   "cell_type": "markdown",
   "metadata": {},
   "source": [
    "### Include an exploratory visualization of the dataset"
   ]
  },
  {
   "cell_type": "markdown",
   "metadata": {},
   "source": [
    "Visualize the German Traffic Signs Dataset using the pickled file(s). This is open ended, suggestions include: plotting traffic sign images, plotting the count of each sign, etc. \n",
    "\n",
    "The [Matplotlib](http://matplotlib.org/) [examples](http://matplotlib.org/examples/index.html) and [gallery](http://matplotlib.org/gallery.html) pages are a great resource for doing visualizations in Python.\n",
    "\n",
    "**NOTE:** It's recommended you start with something simple first. If you wish to do more, come back to it after you've completed the rest of the sections. It can be interesting to look at the distribution of classes in the training, validation and test set. Is the distribution the same? Are there more examples of some classes than others?"
   ]
  },
  {
   "cell_type": "code",
   "execution_count": 3,
   "metadata": {
    "collapsed": false
   },
   "outputs": [
    {
     "name": "stdout",
     "output_type": "stream",
     "text": [
      "35\n",
      "29\n",
      "3\n",
      "25\n",
      "4\n"
     ]
    },
    {
     "data": {
      "image/png": "[encoded data removed]",
      "text/plain": [
       "<matplotlib.figure.Figure at 0x7f745a248e48>"
      ]
     },
     "metadata": {},
     "output_type": "display_data"
    },
    {
     "data": {
      "image/png": "[encoded data removed]",
      "text/plain": [
       "<matplotlib.figure.Figure at 0x7f7438b9df98>"
      ]
     },
     "metadata": {},
     "output_type": "display_data"
    },
    {
     "data": {
      "image/png": "[encoded data removed]",
      "text/plain": [
       "<matplotlib.figure.Figure at 0x7f7438bb7ac8>"
      ]
     },
     "metadata": {},
     "output_type": "display_data"
    },
    {
     "data": {
      "image/png": "[encoded data removed]",
      "text/plain": [
       "<matplotlib.figure.Figure at 0x7f7438b47860>"
      ]
     },
     "metadata": {},
     "output_type": "display_data"
    },
    {
     "data": {
      "image/png": "[encoded data removed]",
      "text/plain": [
       "<matplotlib.figure.Figure at 0x7f7438adc7f0>"
      ]
     },
     "metadata": {},
     "output_type": "display_data"
    }
   ],
   "source": [
    "### Data exploration visualization code goes here.\n",
    "### Feel free to use as many code cells as needed.\n",
    "import random\n",
    "import numpy as np\n",
    "import matplotlib.pyplot as plt\n",
    "# Visualizations will be shown in the notebook.\n",
    "%matplotlib inline\n",
    "\n",
    "for _ in range(5):\n",
    "    index = random.randint(0, len(X_train))\n",
    "    image = X_train[index].squeeze()\n",
    "\n",
    "    plt.figure(figsize=(1,1))\n",
    "    plt.imshow(image)\n",
    "    print(y_train[index])"
   ]
  },
  {
   "cell_type": "markdown",
   "metadata": {},
   "source": [
    "----\n",
    "\n",
    "## Step 2: Design and Test a Model Architecture\n",
    "\n",
    "Design and implement a deep learning model that learns to recognize traffic signs. Train and test your model on the [German Traffic Sign Dataset](http://benchmark.ini.rub.de/?section=gtsrb&subsection=dataset).\n",
    "\n",
    "The LeNet-5 implementation shown in the [classroom](https://classroom.udacity.com/nanodegrees/nd013/parts/fbf77062-5703-404e-b60c-95b78b2f3f9e/modules/6df7ae49-c61c-4bb2-a23e-6527e69209ec/lessons/601ae704-1035-4287-8b11-e2c2716217ad/concepts/d4aca031-508f-4e0b-b493-e7b706120f81) at the end of the CNN lesson is a solid starting point. You'll have to change the number of classes and possibly the preprocessing, but aside from that it's plug and play! \n",
    "\n",
    "With the LeNet-5 solution from the lecture, you should expect a validation set accuracy of about 0.89. To meet specifications, the validation set accuracy will need to be at least 0.93. It is possible to get an even higher accuracy, but 0.93 is the minimum for a successful project submission. \n",
    "\n",
    "There are various aspects to consider when thinking about this problem:\n",
    "\n",
    "- Neural network architecture (is the network over or underfitting?)\n",
    "- Play around preprocessing techniques (normalization, rgb to grayscale, etc)\n",
    "- Number of examples per label (some have more than others).\n",
    "- Generate fake data.\n",
    "\n",
    "Here is an example of a [published baseline model on this problem](http://yann.lecun.com/exdb/publis/pdf/sermanet-ijcnn-11.pdf). It's not required to be familiar with the approach used in the paper but, it's good practice to try to read papers like these."
   ]
  },
  {
   "cell_type": "markdown",
   "metadata": {},
   "source": [
    "### Pre-process the Data Set (normalization, grayscale, etc.)"
   ]
  },
  {
   "cell_type": "markdown",
   "metadata": {},
   "source": [
    "Minimally, the image data should be normalized so that the data has mean zero and equal variance. For image data, `(pixel - 128)/ 128` is a quick way to approximately normalize the data and can be used in this project. \n",
    "\n",
    "Other pre-processing steps are optional. You can try different techniques to see if it improves performance. \n",
    "\n",
    "Use the code cell (or multiple code cells, if necessary) to implement the first step of your project."
   ]
  },
  {
   "cell_type": "code",
   "execution_count": 4,
   "metadata": {
    "collapsed": true
   },
   "outputs": [],
   "source": [
    "def augment_dataset(X, y, max_case):\n",
    "    '''\n",
    "    Augment a dataset. The resulting dataset will contain equal number of cases for each given classification\n",
    "    '''\n",
    "    counter_selection = Counter()\n",
    "    X_selected = []\n",
    "    y_selected = []\n",
    "    label_index_dict = {} # Store the indices of all the images belong to one particular label\n",
    "    \n",
    "    # select images from each class until it has the required number of images\n",
    "    for i, item in enumerate(y):\n",
    "        if counter_selection[item] < max_case:\n",
    "            counter_selection[item] += 1\n",
    "            X_selected.append(X[i])\n",
    "            y_selected.append(item)\n",
    "\n",
    "        if item not in label_index_dict:\n",
    "            label_index_dict[item] = []\n",
    "\n",
    "        label_index_dict[item].append(i)\n",
    "    print(counter_selection)\n",
    "\n",
    "\n",
    "    # generate fake images until it has the required number of images\n",
    "    for index, num in counter_selection.items():\n",
    "        if num < max_case:\n",
    "            # Adding fake data until it has the required number of images\n",
    "            for _ in range(num, max_case, 1):\n",
    "                X_selected.append(add_fake_image(index, label_index_dict)) # Add a random image in this label\n",
    "                y_selected.append(index)\n",
    "    return X_selected, y_selected, label_index_dict"
   ]
  },
  {
   "cell_type": "code",
   "execution_count": 6,
   "metadata": {
    "collapsed": false
   },
   "outputs": [
    {
     "name": "stdout",
     "output_type": "stream",
     "text": [
      "Counter({2: 2000, 1: 1980, 13: 1920, 12: 1890, 38: 1860, 10: 1800, 4: 1770, 5: 1650, 25: 1350, 9: 1320, 7: 1290, 3: 1260, 8: 1260, 11: 1170, 18: 1080, 35: 1080, 17: 990, 14: 690, 31: 690, 33: 599, 15: 540, 26: 540, 28: 480, 23: 450, 30: 390, 6: 360, 16: 360, 34: 360, 22: 330, 36: 330, 20: 300, 40: 300, 21: 270, 39: 270, 24: 240, 29: 240, 27: 210, 32: 210, 41: 210, 42: 210, 0: 180, 19: 180, 37: 180})\n",
      "[-0.8984375 -0.90625   -0.90625  ]\n",
      "(86000, 32, 32, 1)\n",
      "(8820, 32, 32, 1)\n",
      "(25260, 32, 32, 1)\n"
     ]
    }
   ],
   "source": [
    "### Preprocess the data here. It is required to normalize the data. Other preprocessing steps could include \n",
    "### converting to grayscale, etc.\n",
    "### Feel free to use as many code cells as needed.\n",
    "\n",
    "from sklearn.utils import shuffle\n",
    "from tqdm import tqdm\n",
    "import random\n",
    "\n",
    "def rgb2gray(rgb):\n",
    "    return [np.dot(rgb[...,:3], [0.299, 0.587, 0.114])]\n",
    "\n",
    "def add_fake_image(index, label_index_dict):\n",
    "    img = X_train[random.choice(label_index_dict[index])]\n",
    "    # Add noise to the fake image\n",
    "    img_new = np.array([x + (random.random() - 0.5) / 10 for x in img])\n",
    "    return img_new\n",
    "\n",
    "\n",
    "# counter_selection = Counter()\n",
    "# X_train_selected = []\n",
    "# y_train_selected = []\n",
    "# label_index_dict = {}\n",
    "# for i, item in enumerate(y_train):\n",
    "        \n",
    "#     if counter_selection[item] < 2000:\n",
    "#         counter_selection[item] += 1\n",
    "#         X_train_selected.append(X_train[i])\n",
    "#         y_train_selected.append(item)\n",
    "        \n",
    "#     if item not in label_index_dict:\n",
    "#         label_index_dict[item] = []\n",
    "        \n",
    "#     label_index_dict[item].append(i)\n",
    "        \n",
    "# print(counter_selection)\n",
    "\n",
    "\n",
    "# for index, num in counter_selection.items():\n",
    "#     if num < 2000:\n",
    "#         # Adding fake data until it has 1000 images\n",
    "#         for _ in range(num, 2000, 1):\n",
    "#             X_train_selected.append(add_fake_image(index)) # Add a random image in this label\n",
    "#             y_train_selected.append(index)\n",
    "\n",
    "X_train_augmented, y_train_augmented, label_index_dict = augment_dataset(X_train, y_train, 2000)\n",
    "# X_valid_augmented, y_valid_augmented = augment_dataset(X_valid, y_valid, 80)\n",
    "# X_test_augmented, y_test_augmented= augment_dataset(X_test, y_test, 240)\n",
    "\n",
    "            \n",
    "\n",
    "\n",
    "#augment the validation set\n",
    "X_valid_aug = [x for x in X_valid]\n",
    "y_valid_aug = [y for y in y_valid]\n",
    "\n",
    "for y in y_valid:\n",
    "    X_valid_aug.append(add_fake_image(y, label_index_dict))\n",
    "    y_valid_aug.append(y)\n",
    "    \n",
    "X_valid_augmented = X_valid_aug\n",
    "y_valid_augmented = y_valid_aug\n",
    "\n",
    "\n",
    "# augment the test set\n",
    "X_test_aug = [x for x in X_test]\n",
    "y_test_aug = [y for y in y_test]\n",
    "\n",
    "for y in y_test:\n",
    "    X_test_aug.append(add_fake_image(y, label_index_dict))\n",
    "    y_test_aug.append(y)\n",
    "    \n",
    "X_test_augmented = X_test_aug\n",
    "y_test_augmented = y_test_aug\n",
    "    \n",
    "\n",
    "\n",
    "# Code for testing \n",
    "\n",
    "# counterr = Counter()\n",
    "# for item in y_train_selected:\n",
    "#     counterr[item] += 1\n",
    "# print(counterr) \n",
    "\n",
    "\n",
    "\n",
    "\n",
    "\n",
    "\n",
    "    \n",
    "\n",
    "\n",
    "\n",
    "# Normalize X train to between -1 and 1\n",
    "# Since this a uint8, numbers less than 128 minus 128 will overflow to plus 128\n",
    "X_train_normalized = [(np.int8(x - 128)) / 128 for x in X_train_augmented] # This just works ...\n",
    "X_valid_normalized = [(np.int8(x - 128)) / 128 for x in X_valid_augmented] \n",
    "X_test_normalized = [(np.int8(x - 128)) / 128 for x in X_test_augmented] \n",
    "\n",
    "\n",
    "# Convert to grayscale, the result is really counterintuitive\n",
    "print(X_valid_normalized[0][0][0])\n",
    "\n",
    "X_train_grayscale = np.array([rgb2gray(img) for img in X_train_normalized]).reshape(-1,32,32,1)\n",
    "X_valid_grayscale = np.array([rgb2gray(img) for img in X_valid_normalized]).reshape(-1,32,32,1)\n",
    "X_test_grayscale = np.array([rgb2gray(img) for img in X_test_normalized]).reshape(-1,32,32,1)\n",
    "\n",
    "print(X_train_grayscale.shape)\n",
    "print(X_valid_grayscale.shape)\n",
    "print(X_test_grayscale.shape)\n",
    "\n",
    "\n",
    "\n",
    "\n",
    "\n",
    "\n",
    "\n",
    "\n",
    "\n",
    "            \n",
    "            \n",
    "\n",
    "\n"
   ]
  },
  {
   "cell_type": "code",
   "execution_count": 22,
   "metadata": {
    "collapsed": false
   },
   "outputs": [
    {
     "data": {
      "image/png": "[encoded data removed]",
      "text/plain": [
       "<matplotlib.figure.Figure at 0x7f73b4027ef0>"
      ]
     },
     "metadata": {},
     "output_type": "display_data"
    },
    {
     "data": {
      "image/png": "[encoded data removed]",
      "text/plain": [
       "<matplotlib.figure.Figure at 0x7f73b4216c50>"
      ]
     },
     "metadata": {},
     "output_type": "display_data"
    },
    {
     "data": {
      "image/png": "[encoded data removed]",
      "text/plain": [
       "<matplotlib.figure.Figure at 0x7f73b42f5160>"
      ]
     },
     "metadata": {},
     "output_type": "display_data"
    },
    {
     "data": {
      "image/png": "[encoded data removed]",
      "text/plain": [
       "<matplotlib.figure.Figure at 0x7f73b4262668>"
      ]
     },
     "metadata": {},
     "output_type": "display_data"
    },
    {
     "data": {
      "image/png": "[encoded data removed]",
      "text/plain": [
       "<matplotlib.figure.Figure at 0x7f73b428fa58>"
      ]
     },
     "metadata": {},
     "output_type": "display_data"
    }
   ],
   "source": [
    "# Visualizations will be shown in the notebook.\n",
    "%matplotlib inline\n",
    "\n",
    "for _ in range(5):\n",
    "    index = random.randint(0, len(X_train_grayscale))\n",
    "    image = X_train_grayscale[index].squeeze()\n",
    "\n",
    "    plt.figure(figsize=(1,1))\n",
    "    plt.imshow(image, cmap=\"gray\")\n",
    "    "
   ]
  },
  {
   "cell_type": "markdown",
   "metadata": {},
   "source": [
    "### Model Architecture"
   ]
  },
  {
   "cell_type": "code",
   "execution_count": 7,
   "metadata": {
    "collapsed": true
   },
   "outputs": [],
   "source": [
    "### Define your architecture here.\n",
    "### Feel free to use as many code cells as needed.\n",
    "\n",
    "## TODO: Use dropout layer\n",
    "\n",
    "from tensorflow.contrib.layers import flatten\n",
    "\n",
    "def LeNet(x):    \n",
    "    # Arguments used for tf.truncated_normal, randomly defines variables for the weights and biases for each layer\n",
    "    mu = 0\n",
    "    sigma = 0.1\n",
    "    \n",
    "    # SOLUTION: Layer 1: Convolutional. Input = 32x32x3. Output = 28x28x6.\n",
    "    conv1_W = tf.Variable(tf.truncated_normal(shape=(5, 5, 1, 6), mean = mu, stddev = sigma))\n",
    "    conv1_b = tf.Variable(tf.zeros(6))\n",
    "    conv1   = tf.nn.conv2d(x, conv1_W, strides=[1, 1, 1, 1], padding='VALID') + conv1_b\n",
    "    print(conv1)\n",
    "\n",
    "    # SOLUTION: Activation.\n",
    "    conv1 = tf.nn.relu(conv1)\n",
    "\n",
    "    # SOLUTION: Pooling. Input = 28x28x6. Output = 14x14x6.\n",
    "    conv1 = tf.nn.max_pool(conv1, ksize=[1, 2, 2, 1], strides=[1, 2, 2, 1], padding='VALID')\n",
    "    print(conv1)\n",
    "\n",
    "    conv11 = tf.nn.dropout(conv1, 1)\n",
    "    \n",
    "    \n",
    "    # SOLUTION: Layer 2: Convolutional. Output = 10x10x16.\n",
    "    conv2_W = tf.Variable(tf.truncated_normal(shape=(5, 5, 6, 16), mean = mu, stddev = sigma))\n",
    "    conv2_b = tf.Variable(tf.zeros(16))\n",
    "    conv2   = tf.nn.conv2d(conv11, conv2_W, strides=[1, 1, 1, 1], padding='VALID') + conv2_b\n",
    "    print(conv2)\n",
    "    \n",
    "    # SOLUTION: Activation.\n",
    "    conv2 = tf.nn.relu(conv2)\n",
    "\n",
    "    # SOLUTION: Pooling. Input = 10x10x16. Output = 5x5x16.\n",
    "    conv2 = tf.nn.max_pool(conv2, ksize=[1, 2, 2, 1], strides=[1, 2, 2, 1], padding='VALID')\n",
    "    print(conv2)\n",
    "\n",
    "    # SOLUTION: Flatten. Input = 5x5x16. Output = 400.\n",
    "    fc0   = flatten(conv2)\n",
    "    print(fc0)\n",
    "    fc01 = tf.nn.dropout(fc0, 1)\n",
    "    \n",
    "    \n",
    "    # SOLUTION: Layer 3: Fully Connected. Input = 400. Output = 120.\n",
    "    fc1_W = tf.Variable(tf.truncated_normal(shape=(400, 120), mean = mu, stddev = sigma))\n",
    "    fc1_b = tf.Variable(tf.zeros(120))\n",
    "    fc1   = tf.matmul(fc01, fc1_W) + fc1_b\n",
    "    \n",
    "    # SOLUTION: Activation.\n",
    "    fc1    = tf.nn.relu(fc1)\n",
    "    print(fc1)\n",
    "\n",
    "    fc11 = tf.nn.dropout(fc1, 1)\n",
    "    \n",
    "    # SOLUTION: Layer 4: Fully Connected. Input = 120. Output = 84.\n",
    "    fc2_W  = tf.Variable(tf.truncated_normal(shape=(120, 84), mean = mu, stddev = sigma))\n",
    "    fc2_b  = tf.Variable(tf.zeros(84))\n",
    "    fc2    = tf.matmul(fc11, fc2_W) + fc2_b\n",
    "#     return fc2, conv1_W, conv2_W, fc1_W, fc2_W \n",
    "    \n",
    "    # SOLUTION: Activation.\n",
    "    fc2    = tf.nn.relu(fc2)\n",
    "    print(fc2)\n",
    "\n",
    "    # SOLUTION: Layer 5: Fully Connected. Input = 84. Output = 43.\n",
    "    fc3_W  = tf.Variable(tf.truncated_normal(shape=(84, 43), mean = mu, stddev = sigma))\n",
    "    fc3_b  = tf.Variable(tf.zeros(43))\n",
    "    logits = tf.matmul(fc2, fc3_W) + fc3_b\n",
    "    print(logits)\n",
    "    \n",
    "    \n",
    "    return logits, conv1_W, conv2_W, fc1_W, fc2_W, fc3_W "
   ]
  },
  {
   "cell_type": "markdown",
   "metadata": {},
   "source": [
    "### Train, Validate and Test the Model"
   ]
  },
  {
   "cell_type": "markdown",
   "metadata": {},
   "source": [
    "A validation set can be used to assess how well the model is performing. A low accuracy on the training and validation\n",
    "sets imply underfitting. A high accuracy on the training set but low accuracy on the validation set implies overfitting."
   ]
  },
  {
   "cell_type": "markdown",
   "metadata": {},
   "source": [
    "## Training Pipeline"
   ]
  },
  {
   "cell_type": "code",
   "execution_count": 8,
   "metadata": {
    "collapsed": false
   },
   "outputs": [
    {
     "name": "stdout",
     "output_type": "stream",
     "text": [
      "Tensor(\"add:0\", shape=(?, 28, 28, 6), dtype=float32)\n",
      "Tensor(\"MaxPool:0\", shape=(?, 14, 14, 6), dtype=float32)\n",
      "Tensor(\"add_1:0\", shape=(?, 10, 10, 16), dtype=float32)\n",
      "Tensor(\"MaxPool_1:0\", shape=(?, 5, 5, 16), dtype=float32)\n",
      "Tensor(\"Flatten/Reshape:0\", shape=(?, 400), dtype=float32)\n",
      "Tensor(\"Relu_2:0\", shape=(?, 120), dtype=float32)\n",
      "Tensor(\"Relu_3:0\", shape=(?, 84), dtype=float32)\n",
      "Tensor(\"add_4:0\", shape=(?, 43), dtype=float32)\n"
     ]
    }
   ],
   "source": [
    "### Train your model here.\n",
    "### Calculate and report the accuracy on the training and validation set.\n",
    "### Once a final model architecture is selected, \n",
    "### the accuracy on the test set should be calculated and reported as well.\n",
    "### Feel free to use as many code cells as needed.\n",
    "import tensorflow as tf\n",
    "# Set the placeholders for features and labels\n",
    "x = tf.placeholder(tf.float32, (None, 32, 32, 1))\n",
    "y = tf.placeholder(tf.int32, (None))\n",
    "one_hot_y = tf.one_hot(y, 43)\n",
    "\n",
    "# Hyperparameters\n",
    "rate = 0.001\n",
    "EPOCHS = 30\n",
    "BATCH_SIZE = 128\n",
    "beta = 0.001\n",
    "\n",
    "# Training Pipeline\n",
    "logits, weights_1, weights_2, weights_3, weights_4, weights_5 = LeNet(x)\n",
    "prediction = tf.nn.top_k(tf.nn.softmax(logits),5)\n",
    "cross_entropy = tf.nn.softmax_cross_entropy_with_logits(labels=one_hot_y, logits=logits)\n",
    "loss_operation = tf.reduce_mean(cross_entropy)\n",
    "# Apply L2 Regularization\n",
    "regularizers = tf.nn.l2_loss(weights_1) + tf.nn.l2_loss(weights_2) + \\\n",
    "                   tf.nn.l2_loss(weights_3) + tf.nn.l2_loss(weights_4) + tf.nn.l2_loss(weights_5)\n",
    "                   \n",
    "loss_operation = tf.reduce_mean(loss_operation + beta * regularizers)\n",
    "\n",
    "optimizer = tf.train.AdamOptimizer(learning_rate = rate)\n",
    "training_operation = optimizer.minimize(loss_operation)\n",
    "\n",
    "# Model Evaluation\n",
    "correct_prediction = tf.equal(tf.argmax(logits, 1), tf.argmax(one_hot_y, 1))\n",
    "accuracy_operation = tf.reduce_mean(tf.cast(correct_prediction, tf.float32))\n",
    "saver = tf.train.Saver()\n",
    "\n",
    "def evaluate(X_data, y_data):\n",
    "    num_examples = len(X_data)\n",
    "    total_accuracy = 0\n",
    "    sess = tf.get_default_session()\n",
    "    for offset in range(0, num_examples, BATCH_SIZE):\n",
    "        batch_x, batch_y = X_data[offset:offset+BATCH_SIZE], y_data[offset:offset+BATCH_SIZE]\n",
    "        accuracy = sess.run(accuracy_operation, feed_dict={x: batch_x, y: batch_y})\n",
    "        total_accuracy += (accuracy * len(batch_x))\n",
    "    return total_accuracy / num_examples\n",
    "\n",
    "\n",
    "\n",
    "\n"
   ]
  },
  {
   "cell_type": "markdown",
   "metadata": {},
   "source": [
    "## Train"
   ]
  },
  {
   "cell_type": "code",
   "execution_count": 9,
   "metadata": {
    "collapsed": false
   },
   "outputs": [
    {
     "name": "stdout",
     "output_type": "stream",
     "text": [
      "Training...\n",
      "\n",
      "EPOCH 1 ...\n",
      "Validation Accuracy = 0.884\n",
      "Training Accuracy = 0.942\n",
      "\n",
      "EPOCH 2 ...\n",
      "Validation Accuracy = 0.932\n",
      "Training Accuracy = 0.980\n",
      "\n",
      "EPOCH 3 ...\n",
      "Validation Accuracy = 0.915\n",
      "Training Accuracy = 0.978\n",
      "\n",
      "EPOCH 4 ...\n",
      "Validation Accuracy = 0.941\n",
      "Training Accuracy = 0.989\n",
      "\n",
      "EPOCH 5 ...\n",
      "Validation Accuracy = 0.948\n",
      "Training Accuracy = 0.990\n",
      "\n",
      "EPOCH 6 ...\n",
      "Validation Accuracy = 0.945\n",
      "Training Accuracy = 0.994\n",
      "\n",
      "EPOCH 7 ...\n",
      "Validation Accuracy = 0.951\n",
      "Training Accuracy = 0.989\n",
      "\n",
      "EPOCH 8 ...\n",
      "Validation Accuracy = 0.957\n",
      "Training Accuracy = 0.995\n",
      "\n",
      "EPOCH 9 ...\n",
      "Validation Accuracy = 0.947\n",
      "Training Accuracy = 0.993\n",
      "\n",
      "EPOCH 10 ...\n",
      "Validation Accuracy = 0.952\n",
      "Training Accuracy = 0.994\n",
      "\n",
      "EPOCH 11 ...\n",
      "Validation Accuracy = 0.957\n",
      "Training Accuracy = 0.996\n",
      "\n",
      "EPOCH 12 ...\n",
      "Validation Accuracy = 0.958\n",
      "Training Accuracy = 0.995\n",
      "\n",
      "EPOCH 13 ...\n",
      "Validation Accuracy = 0.958\n",
      "Training Accuracy = 0.996\n",
      "\n",
      "EPOCH 14 ...\n",
      "Validation Accuracy = 0.946\n",
      "Training Accuracy = 0.986\n",
      "\n",
      "EPOCH 15 ...\n",
      "Validation Accuracy = 0.966\n",
      "Training Accuracy = 0.996\n",
      "\n",
      "EPOCH 16 ...\n",
      "Validation Accuracy = 0.953\n",
      "Training Accuracy = 0.993\n",
      "\n",
      "EPOCH 17 ...\n",
      "Validation Accuracy = 0.958\n",
      "Training Accuracy = 0.995\n",
      "\n",
      "EPOCH 18 ...\n",
      "Validation Accuracy = 0.958\n",
      "Training Accuracy = 0.995\n",
      "\n",
      "EPOCH 19 ...\n",
      "Validation Accuracy = 0.964\n",
      "Training Accuracy = 0.995\n",
      "\n",
      "EPOCH 20 ...\n",
      "Validation Accuracy = 0.967\n",
      "Training Accuracy = 0.997\n",
      "\n",
      "EPOCH 21 ...\n",
      "Validation Accuracy = 0.964\n",
      "Training Accuracy = 0.998\n",
      "\n",
      "EPOCH 22 ...\n",
      "Validation Accuracy = 0.968\n",
      "Training Accuracy = 0.997\n",
      "\n",
      "EPOCH 23 ...\n",
      "Validation Accuracy = 0.961\n",
      "Training Accuracy = 0.995\n",
      "\n",
      "EPOCH 24 ...\n",
      "Validation Accuracy = 0.963\n",
      "Training Accuracy = 0.996\n",
      "\n",
      "EPOCH 25 ...\n",
      "Validation Accuracy = 0.969\n",
      "Training Accuracy = 0.998\n",
      "\n",
      "EPOCH 26 ...\n",
      "Validation Accuracy = 0.963\n",
      "Training Accuracy = 0.995\n",
      "\n",
      "EPOCH 27 ...\n",
      "Validation Accuracy = 0.962\n",
      "Training Accuracy = 0.994\n",
      "\n",
      "EPOCH 28 ...\n",
      "Validation Accuracy = 0.970\n",
      "Training Accuracy = 0.997\n",
      "\n",
      "EPOCH 29 ...\n",
      "Validation Accuracy = 0.964\n",
      "Training Accuracy = 0.997\n",
      "\n",
      "EPOCH 30 ...\n",
      "Validation Accuracy = 0.970\n",
      "Training Accuracy = 0.998\n",
      "\n",
      "Model saved\n"
     ]
    }
   ],
   "source": [
    "with tf.Session() as sess:\n",
    "    sess.run(tf.global_variables_initializer())\n",
    "    num_examples = len(X_train_normalized)\n",
    "    \n",
    "    print(\"Training...\")\n",
    "    print()\n",
    "    for i in range(EPOCHS):\n",
    "        X_train_grayscale, y_train_augmented = shuffle(X_train_grayscale, y_train_augmented)\n",
    "        for offset in range(0, num_examples, BATCH_SIZE):\n",
    "            end = offset + BATCH_SIZE\n",
    "            batch_x, batch_y = X_train_grayscale[offset:end], y_train_augmented[offset:end]\n",
    "            sess.run(training_operation, feed_dict={x: batch_x, y: batch_y})\n",
    "            \n",
    "        validation_accuracy = evaluate(X_valid_grayscale, y_valid_augmented)\n",
    "        training_accuracy = evaluate(X_train_grayscale, y_train_augmented)\n",
    "        \n",
    "        print(\"EPOCH {} ...\".format(i+1))\n",
    "        print(\"Validation Accuracy = {:.3f}\".format(validation_accuracy))\n",
    "        print(\"Training Accuracy = {:.3f}\".format(training_accuracy))\n",
    "        print()\n",
    "        \n",
    "    saver.save(sess, './lenet')\n",
    "    print(\"Model saved\")"
   ]
  },
  {
   "cell_type": "markdown",
   "metadata": {},
   "source": [
    "## Test "
   ]
  },
  {
   "cell_type": "code",
   "execution_count": 10,
   "metadata": {
    "collapsed": false
   },
   "outputs": [
    {
     "name": "stdout",
     "output_type": "stream",
     "text": [
      "Test Accuracy = 0.958\n"
     ]
    }
   ],
   "source": [
    "with tf.Session() as sess:\n",
    "    saver.restore(sess, tf.train.latest_checkpoint('.'))\n",
    "\n",
    "    test_accuracy = evaluate(X_test_grayscale, y_test_augmented)\n",
    "    print(\"Test Accuracy = {:.3f}\".format(test_accuracy))"
   ]
  },
  {
   "cell_type": "markdown",
   "metadata": {},
   "source": [
    "---\n",
    "\n",
    "## Step 3: Test a Model on New Images\n",
    "\n",
    "To give yourself more insight into how your model is working, download at least five pictures of German traffic signs from the web and use your model to predict the traffic sign type.\n",
    "\n",
    "You may find `signnames.csv` useful as it contains mappings from the class id (integer) to the actual sign name."
   ]
  },
  {
   "cell_type": "markdown",
   "metadata": {},
   "source": [
    "## Helper Functions"
   ]
  },
  {
   "cell_type": "code",
   "execution_count": 11,
   "metadata": {
    "collapsed": true
   },
   "outputs": [],
   "source": [
    "# load the csv file to map the number to traffic sign name\n",
    "import csv\n",
    "sign_dict = {}\n",
    "with open('signnames.csv', 'r') as csvfile:\n",
    "    signreader = csv.reader(csvfile)\n",
    "    line_count = 0\n",
    "    for row in signreader:\n",
    "        if line_count > 0:\n",
    "            sign_dict[row[0]] = row[1]\n",
    "        line_count += 1\n",
    "        \n",
    "    "
   ]
  },
  {
   "cell_type": "markdown",
   "metadata": {},
   "source": [
    "### Load and Output the Images"
   ]
  },
  {
   "cell_type": "code",
   "execution_count": 12,
   "metadata": {
    "collapsed": true
   },
   "outputs": [],
   "source": [
    "import matplotlib.image as mpimg\n",
    "from PIL import Image\n",
    "def load_images(file_names = None, labelss = None):\n",
    "    images = []\n",
    "    labels = []\n",
    "    \n",
    "    # if file names is not passed in, use the test dataset\n",
    "    if file_names == None:\n",
    "        for _ in range(5):\n",
    "            index = random.randint(0, len(X_test))\n",
    "            image = X_test[index].squeeze()\n",
    "            labels.append(y_test[index])\n",
    "            images.append(image)\n",
    "    \n",
    "    # if file names is passed in, use images from outside source\n",
    "    else:\n",
    "        for fn, l in zip(file_names, labelss):\n",
    "            images.append(Image.open(fn))\n",
    "            labels.append(l)\n",
    "        \n",
    "    \n",
    "    for i, img in enumerate(images):\n",
    "        plt.figure(figsize=(1,1))\n",
    "        plt.imshow(img)\n",
    "        print(\"{} : {}\".format(labels[i], sign_dict[str(labels[i])]))\n",
    "        \n",
    "    return images, labels\n",
    "    "
   ]
  },
  {
   "cell_type": "markdown",
   "metadata": {},
   "source": [
    "### Output Top 5 Softmax Probabilities For Each Image Found on the Web"
   ]
  },
  {
   "cell_type": "markdown",
   "metadata": {},
   "source": [
    "For each of the new images, print out the model's softmax probabilities to show the **certainty** of the model's predictions (limit the output to the top 5 probabilities for each image). [`tf.nn.top_k`](https://www.tensorflow.org/versions/r0.12/api_docs/python/nn.html#top_k) could prove helpful here. \n",
    "\n",
    "The example below demonstrates how tf.nn.top_k can be used to find the top k predictions for each image.\n",
    "\n",
    "`tf.nn.top_k` will return the values and indices (class ids) of the top k predictions. So if k=3, for each sign, it'll return the 3 largest probabilities (out of a possible 43) and the correspoding class ids.\n",
    "\n",
    "Take this numpy array as an example. The values in the array represent predictions. The array contains softmax probabilities for five candidate images with six possible classes. `tk.nn.top_k` is used to choose the three classes with the highest probability:\n",
    "\n",
    "```\n",
    "# (5, 6) array\n",
    "a = np.array([[ 0.24879643,  0.07032244,  0.12641572,  0.34763842,  0.07893497,\n",
    "         0.12789202],\n",
    "       [ 0.28086119,  0.27569815,  0.08594638,  0.0178669 ,  0.18063401,\n",
    "         0.15899337],\n",
    "       [ 0.26076848,  0.23664738,  0.08020603,  0.07001922,  0.1134371 ,\n",
    "         0.23892179],\n",
    "       [ 0.11943333,  0.29198961,  0.02605103,  0.26234032,  0.1351348 ,\n",
    "         0.16505091],\n",
    "       [ 0.09561176,  0.34396535,  0.0643941 ,  0.16240774,  0.24206137,\n",
    "         0.09155967]])\n",
    "```\n",
    "\n",
    "Running it through `sess.run(tf.nn.top_k(tf.constant(a), k=3))` produces:\n",
    "\n",
    "```\n",
    "TopKV2(values=array([[ 0.34763842,  0.24879643,  0.12789202],\n",
    "       [ 0.28086119,  0.27569815,  0.18063401],\n",
    "       [ 0.26076848,  0.23892179,  0.23664738],\n",
    "       [ 0.29198961,  0.26234032,  0.16505091],\n",
    "       [ 0.34396535,  0.24206137,  0.16240774]]), indices=array([[3, 0, 5],\n",
    "       [0, 1, 4],\n",
    "       [0, 5, 1],\n",
    "       [1, 3, 5],\n",
    "       [1, 4, 3]], dtype=int32))\n",
    "```\n",
    "\n",
    "Looking just at the first row we get `[ 0.34763842,  0.24879643,  0.12789202]`, you can confirm these are the 3 largest probabilities in `a`. You'll also notice `[3, 0, 5]` are the corresponding indices."
   ]
  },
  {
   "cell_type": "code",
   "execution_count": 13,
   "metadata": {
    "collapsed": true
   },
   "outputs": [],
   "source": [
    "def predict_images(images, labels, need_resize = False):\n",
    "    # Preprocessing\n",
    "    if need_resize:\n",
    "        resized_images = [np.asarray(i.resize((32,32))) for i in images]\n",
    "    else:\n",
    "        resized_images = images\n",
    "    #print(resized_images)\n",
    "    # Normalize the images\n",
    "    normalized_images = np.array([(np.int8(x - 128)) / 128 for x in resized_images])\n",
    "\n",
    "    # Grayscale the images\n",
    "    grayscaled_images = np.array([rgb2gray(img) for img in normalized_images]).reshape(-1,32,32,1)\n",
    "\n",
    "    with tf.Session() as sess:\n",
    "        saver.restore(sess, tf.train.latest_checkpoint('.'))\n",
    "        result = sess.run(prediction, feed_dict={x: grayscaled_images})\n",
    "        performance = sess.run(accuracy_operation, feed_dict={x: grayscaled_images, y:labels})\n",
    "        print(\"accuracy : {}\".format(performance))\n",
    "        for i, (img_prediction, probs) in enumerate(zip(result.indices, result.values)):\n",
    "            print(\"Image\" + str(i + 1))\n",
    "            for pre, prob in zip(img_prediction, probs):\n",
    "                print(\"{} : {}\".format(sign_dict[str(pre)], prob))\n",
    "\n",
    "            print(\"\")"
   ]
  },
  {
   "cell_type": "markdown",
   "metadata": {},
   "source": [
    "## Part 0: Test The Images From The Test Dataset To Get Baseline Results"
   ]
  },
  {
   "cell_type": "code",
   "execution_count": null,
   "metadata": {
    "collapsed": false
   },
   "outputs": [],
   "source": [
    "# grab 5 images from the dataset\n",
    "# Visualizations will be shown in the notebook.\n",
    "%matplotlib inline\n",
    "images, labels = load_images()\n"
   ]
  },
  {
   "cell_type": "markdown",
   "metadata": {},
   "source": [
    "### Predict the Sign Type for Each Image"
   ]
  },
  {
   "cell_type": "code",
   "execution_count": null,
   "metadata": {
    "collapsed": false,
    "scrolled": true
   },
   "outputs": [],
   "source": [
    "predict_images(images, labels)\n"
   ]
  },
  {
   "cell_type": "markdown",
   "metadata": {},
   "source": [
    "## Part 1: Test 5 Pure German Traffic Signs Images From Wikipedia\n",
    "From https://en.wikipedia.org/wiki/Road_signs_in_Germany"
   ]
  },
  {
   "cell_type": "code",
   "execution_count": 15,
   "metadata": {
    "collapsed": false
   },
   "outputs": [
    {
     "name": "stdout",
     "output_type": "stream",
     "text": [
      "3 : Speed limit (60km/h)\n",
      "35 : Ahead only\n",
      "33 : Turn right ahead\n",
      "18 : General caution\n",
      "14 : Stop\n"
     ]
    },
    {
     "data": {
      "image/png": "[encoded data removed]",
      "text/plain": [
       "<matplotlib.figure.Figure at 0x7f73b8499518>"
      ]
     },
     "metadata": {},
     "output_type": "display_data"
    },
    {
     "data": {
      "image/png": "[encoded data removed]",
      "text/plain": [
       "<matplotlib.figure.Figure at 0x7f73b42e4048>"
      ]
     },
     "metadata": {},
     "output_type": "display_data"
    },
    {
     "data": {
      "image/png": "[encoded data removed]",
      "text/plain": [
       "<matplotlib.figure.Figure at 0x7f73b42aa7b8>"
      ]
     },
     "metadata": {},
     "output_type": "display_data"
    },
    {
     "data": {
      "image/png": "[encoded data removed]",
      "text/plain": [
       "<matplotlib.figure.Figure at 0x7f73b4282518>"
      ]
     },
     "metadata": {},
     "output_type": "display_data"
    },
    {
     "data": {
      "image/png": "[encoded data removed]",
      "text/plain": [
       "<matplotlib.figure.Figure at 0x7f73b4245550>"
      ]
     },
     "metadata": {},
     "output_type": "display_data"
    }
   ],
   "source": [
    "import os\n",
    "dir_str = \"dataset/wikipedia\"\n",
    "str_after = os.listdir(dir_str)\n",
    "file_names = [dir_str + \"/\" + s for s in str_after]\n",
    "labels = [3,35,33,18,14]\n",
    "images, labels = load_images(file_names, labels)\n",
    "\n"
   ]
  },
  {
   "cell_type": "code",
   "execution_count": null,
   "metadata": {
    "collapsed": false
   },
   "outputs": [],
   "source": [
    "predict_images(images, labels, True)"
   ]
  },
  {
   "cell_type": "markdown",
   "metadata": {},
   "source": [
    "## Part 2: Test 5 Cropped Real Images"
   ]
  },
  {
   "cell_type": "code",
   "execution_count": 16,
   "metadata": {
    "collapsed": false
   },
   "outputs": [
    {
     "name": "stdout",
     "output_type": "stream",
     "text": [
      "14 : Stop\n",
      "30 : Beware of ice/snow\n",
      "4 : Speed limit (70km/h)\n",
      "38 : Keep right\n",
      "1 : Speed limit (30km/h)\n"
     ]
    },
    {
     "data": {
      "image/png": "[encoded data removed]",
      "text/plain": [
       "<matplotlib.figure.Figure at 0x7f73b8499f98>"
      ]
     },
     "metadata": {},
     "output_type": "display_data"
    },
    {
     "data": {
      "image/png": "[encoded data removed]",
      "text/plain": [
       "<matplotlib.figure.Figure at 0x7f73b4117eb8>"
      ]
     },
     "metadata": {},
     "output_type": "display_data"
    },
    {
     "data": {
      "image/png": "[encoded data removed]",
      "text/plain": [
       "<matplotlib.figure.Figure at 0x7f73b40ee4a8>"
      ]
     },
     "metadata": {},
     "output_type": "display_data"
    },
    {
     "data": {
      "image/png": "[encoded data removed]",
      "text/plain": [
       "<matplotlib.figure.Figure at 0x7f73b40b8400>"
      ]
     },
     "metadata": {},
     "output_type": "display_data"
    },
    {
     "data": {
      "image/png": "[encoded data removed]",
      "text/plain": [
       "<matplotlib.figure.Figure at 0x7f73b400b780>"
      ]
     },
     "metadata": {},
     "output_type": "display_data"
    }
   ],
   "source": [
    "dir_str = \"dataset/croppedimgs\"\n",
    "str_after = os.listdir(dir_str)\n",
    "file_names = [dir_str + \"/\" + s for s in str_after]\n",
    "labels = [14,30,4,38,1]\n",
    "images, labels = load_images(file_names, labels)"
   ]
  },
  {
   "cell_type": "code",
   "execution_count": 17,
   "metadata": {
    "collapsed": false
   },
   "outputs": [
    {
     "name": "stdout",
     "output_type": "stream",
     "text": [
      "accuracy : 0.800000011920929\n",
      "Image1\n",
      "Stop : 0.9998304843902588\n",
      "Speed limit (20km/h) : 0.0001059826827258803\n",
      "Ahead only : 1.8793405615724623e-05\n",
      "Go straight or right : 1.5837895261938684e-05\n",
      "Turn left ahead : 9.330876309832092e-06\n",
      "\n",
      "Image2\n",
      "Beware of ice/snow : 0.6881868243217468\n",
      "Slippery road : 0.2852127254009247\n",
      "Turn left ahead : 0.02563401684165001\n",
      "Right-of-way at the next intersection : 0.0006162330391816795\n",
      "Children crossing : 0.00023770863481331617\n",
      "\n",
      "Image3\n",
      "General caution : 0.9621177911758423\n",
      "Speed limit (30km/h) : 0.03750504553318024\n",
      "Speed limit (80km/h) : 0.0003245206316933036\n",
      "Speed limit (20km/h) : 3.687440403155051e-05\n",
      "Speed limit (70km/h) : 8.997902114060707e-06\n",
      "\n",
      "Image4\n",
      "Keep right : 1.0\n",
      "Slippery road : 1.7370280561146423e-11\n",
      "Bicycles crossing : 1.5949192921221877e-12\n",
      "Wild animals crossing : 1.2308818244169406e-12\n",
      "Turn left ahead : 1.0375560515365979e-17\n",
      "\n",
      "Image5\n",
      "Speed limit (30km/h) : 0.9999996423721313\n",
      "End of speed limit (80km/h) : 3.801768002631434e-07\n",
      "Speed limit (80km/h) : 7.591866690859206e-09\n",
      "Speed limit (20km/h) : 1.0287495300076444e-09\n",
      "Stop : 3.80059135204891e-12\n",
      "\n"
     ]
    }
   ],
   "source": [
    "predict_images(images, labels, True)"
   ]
  },
  {
   "cell_type": "markdown",
   "metadata": {},
   "source": [
    "## Part 3: Test 5 Full Images "
   ]
  },
  {
   "cell_type": "code",
   "execution_count": null,
   "metadata": {
    "collapsed": false
   },
   "outputs": [],
   "source": [
    "dir_str = \"dataset/fullimgs\"\n",
    "str_after = os.listdir(dir_str)\n",
    "file_names = [dir_str + \"/\" + s for s in str_after]\n",
    "labels = [4,14,30,38,1]\n",
    "images, labels = load_images(file_names, labels)"
   ]
  },
  {
   "cell_type": "code",
   "execution_count": null,
   "metadata": {
    "collapsed": false
   },
   "outputs": [],
   "source": [
    "predict_images(images, labels, True)"
   ]
  },
  {
   "cell_type": "markdown",
   "metadata": {},
   "source": [
    "### Project Writeup\n",
    "\n",
    "Once you have completed the code implementation, document your results in a project writeup using this [template](https://github.com/udacity/CarND-Traffic-Sign-Classifier-Project/blob/master/writeup_template.md) as a guide. The writeup can be in a markdown or pdf file. "
   ]
  },
  {
   "cell_type": "markdown",
   "metadata": {},
   "source": [
    "> **Note**: Once you have completed all of the code implementations and successfully answered each question above, you may finalize your work by exporting the iPython Notebook as an HTML document. You can do this by using the menu above and navigating to  \\n\",\n",
    "    \"**File -> Download as -> HTML (.html)**. Include the finished document along with this notebook as your submission."
   ]
  },
  {
   "cell_type": "markdown",
   "metadata": {},
   "source": [
    "---\n",
    "\n",
    "## Step 4 (Optional): Visualize the Neural Network's State with Test Images\n",
    "\n",
    " This Section is not required to complete but acts as an additional excersise for understaning the output of a neural network's weights. While neural networks can be a great learning device they are often referred to as a black box. We can understand what the weights of a neural network look like better by plotting their feature maps. After successfully training your neural network you can see what it's feature maps look like by plotting the output of the network's weight layers in response to a test stimuli image. From these plotted feature maps, it's possible to see what characteristics of an image the network finds interesting. For a sign, maybe the inner network feature maps react with high activation to the sign's boundary outline or to the contrast in the sign's painted symbol.\n",
    "\n",
    " Provided for you below is the function code that allows you to get the visualization output of any tensorflow weight layer you want. The inputs to the function should be a stimuli image, one used during training or a new one you provided, and then the tensorflow variable name that represents the layer's state during the training process, for instance if you wanted to see what the [LeNet lab's](https://classroom.udacity.com/nanodegrees/nd013/parts/fbf77062-5703-404e-b60c-95b78b2f3f9e/modules/6df7ae49-c61c-4bb2-a23e-6527e69209ec/lessons/601ae704-1035-4287-8b11-e2c2716217ad/concepts/d4aca031-508f-4e0b-b493-e7b706120f81) feature maps looked like for it's second convolutional layer you could enter conv2 as the tf_activation variable.\n",
    "\n",
    "For an example of what feature map outputs look like, check out NVIDIA's results in their paper [End-to-End Deep Learning for Self-Driving Cars](https://devblogs.nvidia.com/parallelforall/deep-learning-self-driving-cars/) in the section Visualization of internal CNN State. NVIDIA was able to show that their network's inner weights had high activations to road boundary lines by comparing feature maps from an image with a clear path to one without. Try experimenting with a similar test to show that your trained network's weights are looking for interesting features, whether it's looking at differences in feature maps from images with or without a sign, or even what feature maps look like in a trained network vs a completely untrained one on the same sign image.\n",
    "\n",
    "<figure>\n",
    " <img src=\"visualize_cnn.png\" width=\"380\" alt=\"Combined Image\" />\n",
    " <figcaption>\n",
    " <p></p> \n",
    " <p style=\"text-align: center;\"> Your output should look something like this (above)</p> \n",
    " </figcaption>\n",
    "</figure>\n",
    " <p></p> \n"
   ]
  },
  {
   "cell_type": "code",
   "execution_count": null,
   "metadata": {
    "collapsed": true
   },
   "outputs": [],
   "source": [
    "### Visualize your network's feature maps here.\n",
    "### Feel free to use as many code cells as needed.\n",
    "\n",
    "# image_input: the test image being fed into the network to produce the feature maps\n",
    "# tf_activation: should be a tf variable name used during your training procedure that represents the calculated state of a specific weight layer\n",
    "# activation_min/max: can be used to view the activation contrast in more detail, by default matplot sets min and max to the actual min and max values of the output\n",
    "# plt_num: used to plot out multiple different weight feature map sets on the same block, just extend the plt number for each new feature map entry\n",
    "\n",
    "def outputFeatureMap(image_input, tf_activation, activation_min=-1, activation_max=-1 ,plt_num=1):\n",
    "    # Here make sure to preprocess your image_input in a way your network expects\n",
    "    # with size, normalization, ect if needed\n",
    "    # image_input =\n",
    "    # Note: x should be the same name as your network's tensorflow data placeholder variable\n",
    "    # If you get an error tf_activation is not defined it may be having trouble accessing the variable from inside a function\n",
    "    activation = tf_activation.eval(session=sess,feed_dict={x : image_input})\n",
    "    featuremaps = activation.shape[3]\n",
    "    plt.figure(plt_num, figsize=(15,15))\n",
    "    for featuremap in range(featuremaps):\n",
    "        plt.subplot(6,8, featuremap+1) # sets the number of feature maps to show on each row and column\n",
    "        plt.title('FeatureMap ' + str(featuremap)) # displays the feature map number\n",
    "        if activation_min != -1 & activation_max != -1:\n",
    "            plt.imshow(activation[0,:,:, featuremap], interpolation=\"nearest\", vmin =activation_min, vmax=activation_max, cmap=\"gray\")\n",
    "        elif activation_max != -1:\n",
    "            plt.imshow(activation[0,:,:, featuremap], interpolation=\"nearest\", vmax=activation_max, cmap=\"gray\")\n",
    "        elif activation_min !=-1:\n",
    "            plt.imshow(activation[0,:,:, featuremap], interpolation=\"nearest\", vmin=activation_min, cmap=\"gray\")\n",
    "        else:\n",
    "            plt.imshow(activation[0,:,:, featuremap], interpolation=\"nearest\", cmap=\"gray\")"
   ]
  }
 ],
 "metadata": {
  "anaconda-cloud": {},
  "kernelspec": {
   "display_name": "Python [conda env:carnd-term1]",
   "language": "python",
   "name": "conda-env-carnd-term1-py"
  },
  "language_info": {
   "codemirror_mode": {
    "name": "ipython",
    "version": 3
   },
   "file_extension": ".py",
   "mimetype": "text/x-python",
   "name": "python",
   "nbconvert_exporter": "python",
   "pygments_lexer": "ipython3",
   "version": "3.5.2"
  }
 },
 "nbformat": 4,
 "nbformat_minor": 1
}
